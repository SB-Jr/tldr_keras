{
 "cells": [
  {
   "cell_type": "markdown",
   "metadata": {},
   "source": [
    "# Image data generator"
   ]
  },
  {
   "cell_type": "markdown",
   "metadata": {},
   "source": [
    "Like data generators we also have a special generator for handling images."
   ]
  },
  {
   "cell_type": "markdown",
   "metadata": {},
   "source": [
    "Image generator are useful for the following reasonss:\n",
    "- images are huge in number, i.e cant be accommodated in the memory all at once\n",
    "- there is very less variation in image, not enough to train the mode properly"
   ]
  },
  {
   "cell_type": "markdown",
   "metadata": {},
   "source": [
    "## Image Augmentation\n",
    "\n",
    "> Image Augmentations techniques are methods of artificially increasing the variations of images in our data-set by using horizontal/vertical flips, rotations, variations in brightness of images, horizontal/vertical shifts etc."
   ]
  },
  {
   "cell_type": "markdown",
   "metadata": {},
   "source": [
    "## Keras ImageDataGenerator"
   ]
  },
  {
   "cell_type": "markdown",
   "metadata": {},
   "source": [
    "```python\n",
    "from keras.preprocessing.image import ImageDataGenerator\n",
    "\n",
    "image_gen = ImageDataGenerator(rotation_range=15,\n",
    "                               width_shift_range=0.1,\n",
    "                               height_shift_range=0.1,\n",
    "                               shear_range=0.01,\n",
    "                               zoom_range=[0.9, 1.25],\n",
    "                               horizontal_flip=True,\n",
    "                               vertical_flip=False,\n",
    "                               fill_mode='reflect',\n",
    "                               data_format='channels_last',\n",
    "                               brightness_range=[0.5, 1.5])\n",
    "\n",
    "\n",
    "def create_aug_gen(in_gen):\n",
    "\n",
    "    for in_x, in_y in in_gen:\n",
    "        g_x = image_gen.flow(255*in_x, in_y,\n",
    "                             batch_size=in_x.shape[0])\n",
    "        x, y = next(g_x)\n",
    "\n",
    "        yield x/255.0, y\n",
    "\n",
    "train_gen = generator(data)\n",
    "cur_gen = create_aug_gen(train_gen)\n",
    "t_x, t_y = next(cur_gen)\n",
    "print('x', t_x.shape, t_x.dtype, t_x.min(), t_x.max())\n",
    "print('y', t_y.shape, t_y.dtype, t_y.min(), t_y.max())\n",
    "\n",
    "#Output\n",
    "# x (4, 400, 400, 3) float32 0.007843138 1.0\n",
    "# y (4, 4) float32 0.0 1.0\n",
    "```"
   ]
  },
  {
   "cell_type": "markdown",
   "metadata": {},
   "source": [
    "## Advantage"
   ]
  },
  {
   "cell_type": "markdown",
   "metadata": {},
   "source": [
    "Basic advantages of using the keras built in generators are:\n",
    "- __Fast__: It has a __worker__ option which we can use to make it parallel code thus using the full compute potential\n",
    "- __Simple__: It has a support for keras models out of the box as we can just pass the generator object which will take care of creating batches and providing it at the right time\n",
    "- __Control__: It increase our control over the data and how the model learns from that data\n",
    "- __Easy__ : It is relatively easy as we dont need to write our own code to flip, zoom, rotate images and apply other transformations"
   ]
  }
 ],
 "metadata": {
  "kernelspec": {
   "display_name": "Python [conda env:tf-gpu] *",
   "language": "python",
   "name": "conda-env-tf-gpu-py"
  },
  "language_info": {
   "codemirror_mode": {
    "name": "ipython",
    "version": 3
   },
   "file_extension": ".py",
   "mimetype": "text/x-python",
   "name": "python",
   "nbconvert_exporter": "python",
   "pygments_lexer": "ipython3",
   "version": "3.7.7"
  },
  "widgets": {
   "application/vnd.jupyter.widget-state+json": {
    "state": {},
    "version_major": 2,
    "version_minor": 0
   }
  }
 },
 "nbformat": 4,
 "nbformat_minor": 4
}
